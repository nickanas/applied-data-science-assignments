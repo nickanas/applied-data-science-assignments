{
 "cells": [
  {
   "cell_type": "code",
   "execution_count": 373,
   "metadata": {},
   "outputs": [],
   "source": [
    "import pandas as pd\n",
    "import numpy as np\n",
    "import yfinance as yf"
   ]
  },
  {
   "cell_type": "markdown",
   "metadata": {},
   "source": [
    "### Step 1:  Identify datasets and Data Cleaning"
   ]
  },
  {
   "cell_type": "code",
   "execution_count": 374,
   "metadata": {},
   "outputs": [
    {
     "name": "stderr",
     "output_type": "stream",
     "text": [
      "[*********************100%***********************]  1 of 1 completed\n",
      "[*********************100%***********************]  1 of 1 completed\n",
      "[*********************100%***********************]  1 of 1 completed\n"
     ]
    }
   ],
   "source": [
    "#Calling 3 datasets of stock market data for NASDAQ 100, NASDAQ Technology and Volatility Index\n",
    "ndx_data = yf.download('^NDX', start ='2010-01-01', end = '2024-12-31')\n",
    "ndxt_data = yf.download('^NDXT', start='2010-01-01', end='2024-12-31')\n",
    "vix_data = yf.download('^VIX', start='2010-01-01', end = '2024-12-31')\n",
    "\n",
    "\n",
    "# ndx_data.to_csv('ndx.csv')\n",
    "# ndxt_data.to_csv('ndxt.csv')\n",
    "# vix_data.to_csv('vix.csv')"
   ]
  },
  {
   "cell_type": "code",
   "execution_count": 375,
   "metadata": {},
   "outputs": [],
   "source": [
    "# ndx_data.reset_index(inplace=True)\n",
    "# ndxt_data.reset_index(inplace=True)\n",
    "# vix_data.reset_index(inplace=True)\n",
    "# ndx_data"
   ]
  },
  {
   "cell_type": "markdown",
   "metadata": {},
   "source": [
    "##### Remove the columns that I do need from the 3 datasets"
   ]
  },
  {
   "cell_type": "code",
   "execution_count": 376,
   "metadata": {},
   "outputs": [],
   "source": [
    "ndx_data=ndx_data.drop(['High','Low','Open','Volume'],axis=1)\n",
    "ndxt_data = ndxt_data.drop(['High','Low','Open','Volume'],axis=1)\n",
    "vix_data = vix_data.drop(['High','Low','Open','Volume'], axis=1)"
   ]
  },
  {
   "cell_type": "markdown",
   "metadata": {},
   "source": [
    "##### Call the first macroeconomic dataframe Unemployment rates "
   ]
  },
  {
   "cell_type": "code",
   "execution_count": 377,
   "metadata": {},
   "outputs": [
    {
     "data": {
      "text/html": [
       "<div>\n",
       "<style scoped>\n",
       "    .dataframe tbody tr th:only-of-type {\n",
       "        vertical-align: middle;\n",
       "    }\n",
       "\n",
       "    .dataframe tbody tr th {\n",
       "        vertical-align: top;\n",
       "    }\n",
       "\n",
       "    .dataframe thead th {\n",
       "        text-align: right;\n",
       "    }\n",
       "</style>\n",
       "<table border=\"1\" class=\"dataframe\">\n",
       "  <thead>\n",
       "    <tr style=\"text-align: right;\">\n",
       "      <th></th>\n",
       "      <th>observation_date</th>\n",
       "      <th>UNRATE</th>\n",
       "    </tr>\n",
       "  </thead>\n",
       "  <tbody>\n",
       "    <tr>\n",
       "      <th>0</th>\n",
       "      <td>2010-01-01</td>\n",
       "      <td>9.8</td>\n",
       "    </tr>\n",
       "    <tr>\n",
       "      <th>1</th>\n",
       "      <td>2010-02-01</td>\n",
       "      <td>9.8</td>\n",
       "    </tr>\n",
       "    <tr>\n",
       "      <th>2</th>\n",
       "      <td>2010-03-01</td>\n",
       "      <td>9.9</td>\n",
       "    </tr>\n",
       "    <tr>\n",
       "      <th>3</th>\n",
       "      <td>2010-04-01</td>\n",
       "      <td>9.9</td>\n",
       "    </tr>\n",
       "    <tr>\n",
       "      <th>4</th>\n",
       "      <td>2010-05-01</td>\n",
       "      <td>9.6</td>\n",
       "    </tr>\n",
       "    <tr>\n",
       "      <th>...</th>\n",
       "      <td>...</td>\n",
       "      <td>...</td>\n",
       "    </tr>\n",
       "    <tr>\n",
       "      <th>174</th>\n",
       "      <td>2024-07-01</td>\n",
       "      <td>4.3</td>\n",
       "    </tr>\n",
       "    <tr>\n",
       "      <th>175</th>\n",
       "      <td>2024-08-01</td>\n",
       "      <td>4.2</td>\n",
       "    </tr>\n",
       "    <tr>\n",
       "      <th>176</th>\n",
       "      <td>2024-09-01</td>\n",
       "      <td>4.1</td>\n",
       "    </tr>\n",
       "    <tr>\n",
       "      <th>177</th>\n",
       "      <td>2024-10-01</td>\n",
       "      <td>4.1</td>\n",
       "    </tr>\n",
       "    <tr>\n",
       "      <th>178</th>\n",
       "      <td>2024-11-01</td>\n",
       "      <td>4.2</td>\n",
       "    </tr>\n",
       "  </tbody>\n",
       "</table>\n",
       "<p>179 rows × 2 columns</p>\n",
       "</div>"
      ],
      "text/plain": [
       "    observation_date  UNRATE\n",
       "0         2010-01-01     9.8\n",
       "1         2010-02-01     9.8\n",
       "2         2010-03-01     9.9\n",
       "3         2010-04-01     9.9\n",
       "4         2010-05-01     9.6\n",
       "..               ...     ...\n",
       "174       2024-07-01     4.3\n",
       "175       2024-08-01     4.2\n",
       "176       2024-09-01     4.1\n",
       "177       2024-10-01     4.1\n",
       "178       2024-11-01     4.2\n",
       "\n",
       "[179 rows x 2 columns]"
      ]
     },
     "execution_count": 377,
     "metadata": {},
     "output_type": "execute_result"
    }
   ],
   "source": [
    "unemployment_data = pd.read_csv('UNRATE.csv', sep=',')\n",
    "unemployment_data.dropna(inplace=True)\n",
    "unemployment_data"
   ]
  },
  {
   "cell_type": "markdown",
   "metadata": {},
   "source": [
    "##### Call second macroeconomic dataset Inflation rates"
   ]
  },
  {
   "cell_type": "code",
   "execution_count": 378,
   "metadata": {},
   "outputs": [
    {
     "data": {
      "text/html": [
       "<div>\n",
       "<style scoped>\n",
       "    .dataframe tbody tr th:only-of-type {\n",
       "        vertical-align: middle;\n",
       "    }\n",
       "\n",
       "    .dataframe tbody tr th {\n",
       "        vertical-align: top;\n",
       "    }\n",
       "\n",
       "    .dataframe thead th {\n",
       "        text-align: right;\n",
       "    }\n",
       "</style>\n",
       "<table border=\"1\" class=\"dataframe\">\n",
       "  <thead>\n",
       "    <tr style=\"text-align: right;\">\n",
       "      <th></th>\n",
       "      <th>observation_date</th>\n",
       "      <th>T10YIE</th>\n",
       "    </tr>\n",
       "  </thead>\n",
       "  <tbody>\n",
       "    <tr>\n",
       "      <th>0</th>\n",
       "      <td>2010-01-04</td>\n",
       "      <td>2.38</td>\n",
       "    </tr>\n",
       "    <tr>\n",
       "      <th>1</th>\n",
       "      <td>2010-01-05</td>\n",
       "      <td>2.34</td>\n",
       "    </tr>\n",
       "    <tr>\n",
       "      <th>2</th>\n",
       "      <td>2010-01-06</td>\n",
       "      <td>2.37</td>\n",
       "    </tr>\n",
       "    <tr>\n",
       "      <th>3</th>\n",
       "      <td>2010-01-07</td>\n",
       "      <td>2.41</td>\n",
       "    </tr>\n",
       "    <tr>\n",
       "      <th>4</th>\n",
       "      <td>2010-01-08</td>\n",
       "      <td>2.42</td>\n",
       "    </tr>\n",
       "    <tr>\n",
       "      <th>...</th>\n",
       "      <td>...</td>\n",
       "      <td>...</td>\n",
       "    </tr>\n",
       "    <tr>\n",
       "      <th>3906</th>\n",
       "      <td>2024-12-24</td>\n",
       "      <td>2.35</td>\n",
       "    </tr>\n",
       "    <tr>\n",
       "      <th>3908</th>\n",
       "      <td>2024-12-26</td>\n",
       "      <td>2.35</td>\n",
       "    </tr>\n",
       "    <tr>\n",
       "      <th>3909</th>\n",
       "      <td>2024-12-27</td>\n",
       "      <td>2.34</td>\n",
       "    </tr>\n",
       "    <tr>\n",
       "      <th>3910</th>\n",
       "      <td>2024-12-30</td>\n",
       "      <td>2.31</td>\n",
       "    </tr>\n",
       "    <tr>\n",
       "      <th>3911</th>\n",
       "      <td>2024-12-31</td>\n",
       "      <td>2.34</td>\n",
       "    </tr>\n",
       "  </tbody>\n",
       "</table>\n",
       "<p>3752 rows × 2 columns</p>\n",
       "</div>"
      ],
      "text/plain": [
       "     observation_date  T10YIE\n",
       "0          2010-01-04    2.38\n",
       "1          2010-01-05    2.34\n",
       "2          2010-01-06    2.37\n",
       "3          2010-01-07    2.41\n",
       "4          2010-01-08    2.42\n",
       "...               ...     ...\n",
       "3906       2024-12-24    2.35\n",
       "3908       2024-12-26    2.35\n",
       "3909       2024-12-27    2.34\n",
       "3910       2024-12-30    2.31\n",
       "3911       2024-12-31    2.34\n",
       "\n",
       "[3752 rows x 2 columns]"
      ]
     },
     "execution_count": 378,
     "metadata": {},
     "output_type": "execute_result"
    }
   ],
   "source": [
    "inflation_data = pd.read_csv('T10YIE.csv')\n",
    "inflation_data.dropna(inplace=True)\n",
    "inflation_data"
   ]
  },
  {
   "cell_type": "markdown",
   "metadata": {},
   "source": [
    "##### Inflation handling | Unemployement handling"
   ]
  },
  {
   "cell_type": "code",
   "execution_count": 379,
   "metadata": {},
   "outputs": [
    {
     "name": "stderr",
     "output_type": "stream",
     "text": [
      "C:\\Users\\Nickos\\AppData\\Local\\Temp\\ipykernel_20004\\2516609010.py:9: UserWarning: Pandas doesn't allow columns to be created via a new attribute name - see https://pandas.pydata.org/pandas-docs/stable/indexing.html#attribute-access\n",
      "  unemployment_data.colums = unemployment_data.columns.str.strip()\n"
     ]
    },
    {
     "data": {
      "text/plain": [
       "(           Date  T10YIE\n",
       " 0    2010-01-04    2.38\n",
       " 1    2010-01-05    2.34\n",
       " 2    2010-01-06    2.37\n",
       " 3    2010-01-07    2.41\n",
       " 4    2010-01-08    2.42\n",
       " ...         ...     ...\n",
       " 3906 2024-12-24    2.35\n",
       " 3908 2024-12-26    2.35\n",
       " 3909 2024-12-27    2.34\n",
       " 3910 2024-12-30    2.31\n",
       " 3911 2024-12-31    2.34\n",
       " \n",
       " [3752 rows x 2 columns],\n",
       "           Date  UNRATE\n",
       " 0   2010-01-01     9.8\n",
       " 1   2010-02-01     9.8\n",
       " 2   2010-03-01     9.9\n",
       " 3   2010-04-01     9.9\n",
       " 4   2010-05-01     9.6\n",
       " ..         ...     ...\n",
       " 174 2024-07-01     4.3\n",
       " 175 2024-08-01     4.2\n",
       " 176 2024-09-01     4.1\n",
       " 177 2024-10-01     4.1\n",
       " 178 2024-11-01     4.2\n",
       " \n",
       " [179 rows x 2 columns])"
      ]
     },
     "execution_count": 379,
     "metadata": {},
     "output_type": "execute_result"
    }
   ],
   "source": [
    "#In contrast to the unemployment dataset the Inflation is not in monthly rates but daily. So in order to merge and use the data\n",
    "#They have to be of the same length and type. They need a lot of data handling.\n",
    "\n",
    "#Here I rename for both datasets the column of the Date to date and turn it to datetime\n",
    "inflation_data.columns = inflation_data.columns.str.strip()  # Removes leading/trailing spaces\n",
    "inflation_data['observation_date'] = pd.to_datetime(inflation_data['observation_date'])\n",
    "inflation_data.rename(columns={'observation_date':'Date'}, inplace=True)\n",
    "\n",
    "unemployment_data.colums = unemployment_data.columns.str.strip()\n",
    "unemployment_data['observation_date'] = pd.to_datetime(unemployment_data['observation_date'])\n",
    "unemployment_data.rename(columns={'observation_date':'Date'}, inplace=True)\n",
    "\n",
    "inflation_data,unemployment_data"
   ]
  },
  {
   "cell_type": "markdown",
   "metadata": {},
   "source": [
    "##### Set the dates to indexes"
   ]
  },
  {
   "cell_type": "code",
   "execution_count": 380,
   "metadata": {},
   "outputs": [
    {
     "data": {
      "text/plain": [
       "(            T10YIE\n",
       " Date              \n",
       " 2010-01-04    2.38\n",
       " 2010-01-05    2.34\n",
       " 2010-01-06    2.37\n",
       " 2010-01-07    2.41\n",
       " 2010-01-08    2.42\n",
       " ...            ...\n",
       " 2024-12-24    2.35\n",
       " 2024-12-26    2.35\n",
       " 2024-12-27    2.34\n",
       " 2024-12-30    2.31\n",
       " 2024-12-31    2.34\n",
       " \n",
       " [3752 rows x 1 columns],\n",
       "             UNRATE\n",
       " Date              \n",
       " 2010-01-01     9.8\n",
       " 2010-02-01     9.8\n",
       " 2010-03-01     9.9\n",
       " 2010-04-01     9.9\n",
       " 2010-05-01     9.6\n",
       " ...            ...\n",
       " 2024-07-01     4.3\n",
       " 2024-08-01     4.2\n",
       " 2024-09-01     4.1\n",
       " 2024-10-01     4.1\n",
       " 2024-11-01     4.2\n",
       " \n",
       " [179 rows x 1 columns])"
      ]
     },
     "execution_count": 380,
     "metadata": {},
     "output_type": "execute_result"
    }
   ],
   "source": [
    "#This will alows to merge the data with the stock market data in dates\n",
    "inflation_data.set_index('Date', inplace=True)\n",
    "unemployment_data.set_index('Date', inplace=True)\n",
    "\n",
    "inflation_data, unemployment_data"
   ]
  },
  {
   "cell_type": "markdown",
   "metadata": {},
   "source": [
    "##### Convert inflation to monthly"
   ]
  },
  {
   "cell_type": "code",
   "execution_count": 381,
   "metadata": {},
   "outputs": [
    {
     "name": "stderr",
     "output_type": "stream",
     "text": [
      "C:\\Users\\Nickos\\AppData\\Local\\Temp\\ipykernel_20004\\1950397476.py:2: FutureWarning: 'M' is deprecated and will be removed in a future version, please use 'ME' instead.\n",
      "  monthly_inflation = inflation_data.resample('M').mean()\n"
     ]
    },
    {
     "data": {
      "text/html": [
       "<div>\n",
       "<style scoped>\n",
       "    .dataframe tbody tr th:only-of-type {\n",
       "        vertical-align: middle;\n",
       "    }\n",
       "\n",
       "    .dataframe tbody tr th {\n",
       "        vertical-align: top;\n",
       "    }\n",
       "\n",
       "    .dataframe thead th {\n",
       "        text-align: right;\n",
       "    }\n",
       "</style>\n",
       "<table border=\"1\" class=\"dataframe\">\n",
       "  <thead>\n",
       "    <tr style=\"text-align: right;\">\n",
       "      <th></th>\n",
       "      <th>T10YIE</th>\n",
       "    </tr>\n",
       "    <tr>\n",
       "      <th>Date</th>\n",
       "      <th></th>\n",
       "    </tr>\n",
       "  </thead>\n",
       "  <tbody>\n",
       "    <tr>\n",
       "      <th>2010-01-31</th>\n",
       "      <td>2.358421</td>\n",
       "    </tr>\n",
       "    <tr>\n",
       "      <th>2010-02-28</th>\n",
       "      <td>2.272105</td>\n",
       "    </tr>\n",
       "    <tr>\n",
       "      <th>2010-03-31</th>\n",
       "      <td>2.219130</td>\n",
       "    </tr>\n",
       "    <tr>\n",
       "      <th>2010-04-30</th>\n",
       "      <td>2.345909</td>\n",
       "    </tr>\n",
       "    <tr>\n",
       "      <th>2010-05-31</th>\n",
       "      <td>2.113000</td>\n",
       "    </tr>\n",
       "    <tr>\n",
       "      <th>...</th>\n",
       "      <td>...</td>\n",
       "    </tr>\n",
       "    <tr>\n",
       "      <th>2024-08-31</th>\n",
       "      <td>2.110000</td>\n",
       "    </tr>\n",
       "    <tr>\n",
       "      <th>2024-09-30</th>\n",
       "      <td>2.107500</td>\n",
       "    </tr>\n",
       "    <tr>\n",
       "      <th>2024-10-31</th>\n",
       "      <td>2.285909</td>\n",
       "    </tr>\n",
       "    <tr>\n",
       "      <th>2024-11-30</th>\n",
       "      <td>2.321053</td>\n",
       "    </tr>\n",
       "    <tr>\n",
       "      <th>2024-12-31</th>\n",
       "      <td>2.303333</td>\n",
       "    </tr>\n",
       "  </tbody>\n",
       "</table>\n",
       "<p>180 rows × 1 columns</p>\n",
       "</div>"
      ],
      "text/plain": [
       "              T10YIE\n",
       "Date                \n",
       "2010-01-31  2.358421\n",
       "2010-02-28  2.272105\n",
       "2010-03-31  2.219130\n",
       "2010-04-30  2.345909\n",
       "2010-05-31  2.113000\n",
       "...              ...\n",
       "2024-08-31  2.110000\n",
       "2024-09-30  2.107500\n",
       "2024-10-31  2.285909\n",
       "2024-11-30  2.321053\n",
       "2024-12-31  2.303333\n",
       "\n",
       "[180 rows x 1 columns]"
      ]
     },
     "execution_count": 381,
     "metadata": {},
     "output_type": "execute_result"
    }
   ],
   "source": [
    "#Here I convert the inflation to monthly value by selecting the mean of each month\n",
    "monthly_inflation = inflation_data.resample('M').mean()\n",
    "monthly_inflation"
   ]
  },
  {
   "cell_type": "markdown",
   "metadata": {},
   "source": [
    "##### Stock data to monthly"
   ]
  },
  {
   "cell_type": "code",
   "execution_count": 382,
   "metadata": {},
   "outputs": [
    {
     "name": "stderr",
     "output_type": "stream",
     "text": [
      "C:\\Users\\Nickos\\AppData\\Local\\Temp\\ipykernel_20004\\2990415575.py:6: FutureWarning: 'M' is deprecated and will be removed in a future version, please use 'ME' instead.\n",
      "  monthly_ndxt_data =ndxt_data.resample('M').mean()\n",
      "C:\\Users\\Nickos\\AppData\\Local\\Temp\\ipykernel_20004\\2990415575.py:7: FutureWarning: 'M' is deprecated and will be removed in a future version, please use 'ME' instead.\n",
      "  monthly_vix_data = vix_data.resample('M').mean()\n",
      "C:\\Users\\Nickos\\AppData\\Local\\Temp\\ipykernel_20004\\2990415575.py:8: FutureWarning: 'M' is deprecated and will be removed in a future version, please use 'ME' instead.\n",
      "  monthly_ndx_data = ndx_data.resample('M').mean()\n"
     ]
    }
   ],
   "source": [
    "#Convert stocks to monthly taking the mean of each Month but first make the date the index\n",
    "ndx_data.index = pd.to_datetime(ndx_data.index)\n",
    "ndxt_data.index = pd.to_datetime(ndxt_data.index)\n",
    "vix_data.index = pd.to_datetime(vix_data.index)\n",
    "\n",
    "monthly_ndxt_data =ndxt_data.resample('M').mean()\n",
    "monthly_vix_data = vix_data.resample('M').mean() \n",
    "monthly_ndx_data = ndx_data.resample('M').mean()\n"
   ]
  },
  {
   "cell_type": "markdown",
   "metadata": {},
   "source": [
    "##### Stock data handling"
   ]
  },
  {
   "cell_type": "code",
   "execution_count": 383,
   "metadata": {},
   "outputs": [
    {
     "name": "stdout",
     "output_type": "stream",
     "text": [
      "Ticker        NDX_Close\n",
      "Date                   \n",
      "2010-01-31  1850.219470\n",
      "2010-02-28  1784.734735\n",
      "2010-03-31  1920.616078\n",
      "2010-04-30  2010.960013\n",
      "2010-05-31  1892.732996\n",
      "\n",
      "Ticker       NDXT_Close\n",
      "Date                   \n",
      "2010-01-31  1122.320004\n",
      "2010-02-28  1080.598434\n",
      "2010-03-31  1159.886963\n",
      "2010-04-30  1218.871448\n",
      "2010-05-31  1143.466516\n",
      "\n",
      "Ticker      VIX_Close\n",
      "Date                 \n",
      "2010-01-31  20.643158\n",
      "2010-02-28  22.540000\n",
      "2010-03-31  17.767391\n",
      "2010-04-30  17.424286\n",
      "2010-05-31  31.929500\n"
     ]
    }
   ],
   "source": [
    "#Because the data from yahoofinance are 2 leveled and this makes it impossible to merge with the macroeconomic data, \n",
    "#Remove the 1 layer and rename the second one to so I do not lose any columns in the process\n",
    "\n",
    "monthly_ndx_data.columns = monthly_ndx_data.columns.get_level_values(1)  # Extract the second level \n",
    "monthly_ndx_data.rename(columns={'^NDX':'NDX_Close'},inplace=True)\n",
    "monthly_ndxt_data.columns= monthly_ndxt_data.columns.get_level_values(1)\n",
    "monthly_ndxt_data.rename(columns={'^NDXT':'NDXT_Close'},inplace=True)\n",
    "monthly_vix_data.columns=monthly_vix_data.columns.get_level_values(1)\n",
    "monthly_vix_data.rename(columns={'^VIX':'VIX_Close'},inplace=True)\n",
    "\n",
    "\n",
    "print(monthly_ndx_data.head(5))\n",
    "print(f'\\n{monthly_ndxt_data.head(5)}')\n",
    "print(f'\\n{monthly_vix_data.head(5)}')"
   ]
  },
  {
   "cell_type": "markdown",
   "metadata": {},
   "source": [
    "##### Stock data merge"
   ]
  },
  {
   "cell_type": "code",
   "execution_count": 384,
   "metadata": {},
   "outputs": [
    {
     "data": {
      "text/html": [
       "<div>\n",
       "<style scoped>\n",
       "    .dataframe tbody tr th:only-of-type {\n",
       "        vertical-align: middle;\n",
       "    }\n",
       "\n",
       "    .dataframe tbody tr th {\n",
       "        vertical-align: top;\n",
       "    }\n",
       "\n",
       "    .dataframe thead th {\n",
       "        text-align: right;\n",
       "    }\n",
       "</style>\n",
       "<table border=\"1\" class=\"dataframe\">\n",
       "  <thead>\n",
       "    <tr style=\"text-align: right;\">\n",
       "      <th>Ticker</th>\n",
       "      <th>NDX_Close</th>\n",
       "      <th>NDXT_Close</th>\n",
       "      <th>VIX_Close</th>\n",
       "    </tr>\n",
       "    <tr>\n",
       "      <th>Date</th>\n",
       "      <th></th>\n",
       "      <th></th>\n",
       "      <th></th>\n",
       "    </tr>\n",
       "  </thead>\n",
       "  <tbody>\n",
       "    <tr>\n",
       "      <th>2010-01-31</th>\n",
       "      <td>1850.219470</td>\n",
       "      <td>1122.320004</td>\n",
       "      <td>20.643158</td>\n",
       "    </tr>\n",
       "    <tr>\n",
       "      <th>2010-02-28</th>\n",
       "      <td>1784.734735</td>\n",
       "      <td>1080.598434</td>\n",
       "      <td>22.540000</td>\n",
       "    </tr>\n",
       "    <tr>\n",
       "      <th>2010-03-31</th>\n",
       "      <td>1920.616078</td>\n",
       "      <td>1159.886963</td>\n",
       "      <td>17.767391</td>\n",
       "    </tr>\n",
       "    <tr>\n",
       "      <th>2010-04-30</th>\n",
       "      <td>2010.960013</td>\n",
       "      <td>1218.871448</td>\n",
       "      <td>17.424286</td>\n",
       "    </tr>\n",
       "    <tr>\n",
       "      <th>2010-05-31</th>\n",
       "      <td>1892.732996</td>\n",
       "      <td>1143.466516</td>\n",
       "      <td>31.929500</td>\n",
       "    </tr>\n",
       "    <tr>\n",
       "      <th>...</th>\n",
       "      <td>...</td>\n",
       "      <td>...</td>\n",
       "      <td>...</td>\n",
       "    </tr>\n",
       "    <tr>\n",
       "      <th>2024-08-31</th>\n",
       "      <td>19070.050249</td>\n",
       "      <td>10058.272061</td>\n",
       "      <td>19.312273</td>\n",
       "    </tr>\n",
       "    <tr>\n",
       "      <th>2024-09-30</th>\n",
       "      <td>19434.121484</td>\n",
       "      <td>10114.234570</td>\n",
       "      <td>17.769000</td>\n",
       "    </tr>\n",
       "    <tr>\n",
       "      <th>2024-10-31</th>\n",
       "      <td>20172.450917</td>\n",
       "      <td>10511.156505</td>\n",
       "      <td>19.960870</td>\n",
       "    </tr>\n",
       "    <tr>\n",
       "      <th>2024-11-30</th>\n",
       "      <td>20726.958008</td>\n",
       "      <td>10645.124609</td>\n",
       "      <td>16.121000</td>\n",
       "    </tr>\n",
       "    <tr>\n",
       "      <th>2024-12-31</th>\n",
       "      <td>21517.410547</td>\n",
       "      <td>10775.856104</td>\n",
       "      <td>15.792000</td>\n",
       "    </tr>\n",
       "  </tbody>\n",
       "</table>\n",
       "<p>180 rows × 3 columns</p>\n",
       "</div>"
      ],
      "text/plain": [
       "Ticker         NDX_Close    NDXT_Close  VIX_Close\n",
       "Date                                             \n",
       "2010-01-31   1850.219470   1122.320004  20.643158\n",
       "2010-02-28   1784.734735   1080.598434  22.540000\n",
       "2010-03-31   1920.616078   1159.886963  17.767391\n",
       "2010-04-30   2010.960013   1218.871448  17.424286\n",
       "2010-05-31   1892.732996   1143.466516  31.929500\n",
       "...                  ...           ...        ...\n",
       "2024-08-31  19070.050249  10058.272061  19.312273\n",
       "2024-09-30  19434.121484  10114.234570  17.769000\n",
       "2024-10-31  20172.450917  10511.156505  19.960870\n",
       "2024-11-30  20726.958008  10645.124609  16.121000\n",
       "2024-12-31  21517.410547  10775.856104  15.792000\n",
       "\n",
       "[180 rows x 3 columns]"
      ]
     },
     "execution_count": 384,
     "metadata": {},
     "output_type": "execute_result"
    }
   ],
   "source": [
    "merge_stock = pd.merge(monthly_ndx_data, monthly_ndxt_data, on='Date')\n",
    "stock_data = pd.merge(merge_stock,monthly_vix_data, on='Date')\n",
    "stock_data"
   ]
  },
  {
   "cell_type": "code",
   "execution_count": 385,
   "metadata": {},
   "outputs": [
    {
     "data": {
      "text/html": [
       "<div>\n",
       "<style scoped>\n",
       "    .dataframe tbody tr th:only-of-type {\n",
       "        vertical-align: middle;\n",
       "    }\n",
       "\n",
       "    .dataframe tbody tr th {\n",
       "        vertical-align: top;\n",
       "    }\n",
       "\n",
       "    .dataframe thead th {\n",
       "        text-align: right;\n",
       "    }\n",
       "</style>\n",
       "<table border=\"1\" class=\"dataframe\">\n",
       "  <thead>\n",
       "    <tr style=\"text-align: right;\">\n",
       "      <th></th>\n",
       "      <th>T10YIE</th>\n",
       "    </tr>\n",
       "    <tr>\n",
       "      <th>Date</th>\n",
       "      <th></th>\n",
       "    </tr>\n",
       "  </thead>\n",
       "  <tbody>\n",
       "    <tr>\n",
       "      <th>2010-01-31</th>\n",
       "      <td>2.358421</td>\n",
       "    </tr>\n",
       "    <tr>\n",
       "      <th>2010-02-28</th>\n",
       "      <td>2.272105</td>\n",
       "    </tr>\n",
       "    <tr>\n",
       "      <th>2010-03-31</th>\n",
       "      <td>2.219130</td>\n",
       "    </tr>\n",
       "    <tr>\n",
       "      <th>2010-04-30</th>\n",
       "      <td>2.345909</td>\n",
       "    </tr>\n",
       "    <tr>\n",
       "      <th>2010-05-31</th>\n",
       "      <td>2.113000</td>\n",
       "    </tr>\n",
       "    <tr>\n",
       "      <th>...</th>\n",
       "      <td>...</td>\n",
       "    </tr>\n",
       "    <tr>\n",
       "      <th>2024-08-31</th>\n",
       "      <td>2.110000</td>\n",
       "    </tr>\n",
       "    <tr>\n",
       "      <th>2024-09-30</th>\n",
       "      <td>2.107500</td>\n",
       "    </tr>\n",
       "    <tr>\n",
       "      <th>2024-10-31</th>\n",
       "      <td>2.285909</td>\n",
       "    </tr>\n",
       "    <tr>\n",
       "      <th>2024-11-30</th>\n",
       "      <td>2.321053</td>\n",
       "    </tr>\n",
       "    <tr>\n",
       "      <th>2024-12-31</th>\n",
       "      <td>2.303333</td>\n",
       "    </tr>\n",
       "  </tbody>\n",
       "</table>\n",
       "<p>180 rows × 1 columns</p>\n",
       "</div>"
      ],
      "text/plain": [
       "              T10YIE\n",
       "Date                \n",
       "2010-01-31  2.358421\n",
       "2010-02-28  2.272105\n",
       "2010-03-31  2.219130\n",
       "2010-04-30  2.345909\n",
       "2010-05-31  2.113000\n",
       "...              ...\n",
       "2024-08-31  2.110000\n",
       "2024-09-30  2.107500\n",
       "2024-10-31  2.285909\n",
       "2024-11-30  2.321053\n",
       "2024-12-31  2.303333\n",
       "\n",
       "[180 rows x 1 columns]"
      ]
     },
     "execution_count": 385,
     "metadata": {},
     "output_type": "execute_result"
    }
   ],
   "source": [
    "#Make sure that they have the same dates as indexes\n",
    "\n",
    "monthly_inflation = monthly_inflation.reindex(monthly_ndx_data.index)\n",
    "monthly_inflation"
   ]
  },
  {
   "cell_type": "code",
   "execution_count": 386,
   "metadata": {},
   "outputs": [
    {
     "data": {
      "text/html": [
       "<div>\n",
       "<style scoped>\n",
       "    .dataframe tbody tr th:only-of-type {\n",
       "        vertical-align: middle;\n",
       "    }\n",
       "\n",
       "    .dataframe tbody tr th {\n",
       "        vertical-align: top;\n",
       "    }\n",
       "\n",
       "    .dataframe thead th {\n",
       "        text-align: right;\n",
       "    }\n",
       "</style>\n",
       "<table border=\"1\" class=\"dataframe\">\n",
       "  <thead>\n",
       "    <tr style=\"text-align: right;\">\n",
       "      <th></th>\n",
       "      <th>UNRATE</th>\n",
       "    </tr>\n",
       "    <tr>\n",
       "      <th>Date</th>\n",
       "      <th></th>\n",
       "    </tr>\n",
       "  </thead>\n",
       "  <tbody>\n",
       "    <tr>\n",
       "      <th>2010-01-31</th>\n",
       "      <td>9.8</td>\n",
       "    </tr>\n",
       "    <tr>\n",
       "      <th>2010-02-28</th>\n",
       "      <td>9.9</td>\n",
       "    </tr>\n",
       "    <tr>\n",
       "      <th>2010-03-31</th>\n",
       "      <td>9.9</td>\n",
       "    </tr>\n",
       "    <tr>\n",
       "      <th>2010-04-30</th>\n",
       "      <td>9.6</td>\n",
       "    </tr>\n",
       "    <tr>\n",
       "      <th>2010-05-31</th>\n",
       "      <td>9.4</td>\n",
       "    </tr>\n",
       "    <tr>\n",
       "      <th>...</th>\n",
       "      <td>...</td>\n",
       "    </tr>\n",
       "    <tr>\n",
       "      <th>2024-08-31</th>\n",
       "      <td>4.1</td>\n",
       "    </tr>\n",
       "    <tr>\n",
       "      <th>2024-09-30</th>\n",
       "      <td>4.1</td>\n",
       "    </tr>\n",
       "    <tr>\n",
       "      <th>2024-10-31</th>\n",
       "      <td>4.2</td>\n",
       "    </tr>\n",
       "    <tr>\n",
       "      <th>2024-11-30</th>\n",
       "      <td>4.2</td>\n",
       "    </tr>\n",
       "    <tr>\n",
       "      <th>2024-12-31</th>\n",
       "      <td>4.2</td>\n",
       "    </tr>\n",
       "  </tbody>\n",
       "</table>\n",
       "<p>180 rows × 1 columns</p>\n",
       "</div>"
      ],
      "text/plain": [
       "            UNRATE\n",
       "Date              \n",
       "2010-01-31     9.8\n",
       "2010-02-28     9.9\n",
       "2010-03-31     9.9\n",
       "2010-04-30     9.6\n",
       "2010-05-31     9.4\n",
       "...            ...\n",
       "2024-08-31     4.1\n",
       "2024-09-30     4.1\n",
       "2024-10-31     4.2\n",
       "2024-11-30     4.2\n",
       "2024-12-31     4.2\n",
       "\n",
       "[180 rows x 1 columns]"
      ]
     },
     "execution_count": 386,
     "metadata": {},
     "output_type": "execute_result"
    }
   ],
   "source": [
    "#Same here the index of unemployement rates has to be the same as the rest. I had some issues here not sure why\n",
    "#It was setting all the values to NaN so I found the method='nearest' and it kept the original values\n",
    "\n",
    "monthly_unemploy = unemployment_data.reindex(monthly_inflation.index,method='nearest')\n",
    "monthly_unemploy"
   ]
  },
  {
   "cell_type": "markdown",
   "metadata": {},
   "source": [
    "##### Macro merging"
   ]
  },
  {
   "cell_type": "code",
   "execution_count": 387,
   "metadata": {},
   "outputs": [
    {
     "data": {
      "text/html": [
       "<div>\n",
       "<style scoped>\n",
       "    .dataframe tbody tr th:only-of-type {\n",
       "        vertical-align: middle;\n",
       "    }\n",
       "\n",
       "    .dataframe tbody tr th {\n",
       "        vertical-align: top;\n",
       "    }\n",
       "\n",
       "    .dataframe thead th {\n",
       "        text-align: right;\n",
       "    }\n",
       "</style>\n",
       "<table border=\"1\" class=\"dataframe\">\n",
       "  <thead>\n",
       "    <tr style=\"text-align: right;\">\n",
       "      <th></th>\n",
       "      <th>T10YIE</th>\n",
       "      <th>UNRATE</th>\n",
       "    </tr>\n",
       "    <tr>\n",
       "      <th>Date</th>\n",
       "      <th></th>\n",
       "      <th></th>\n",
       "    </tr>\n",
       "  </thead>\n",
       "  <tbody>\n",
       "    <tr>\n",
       "      <th>2010-01-31</th>\n",
       "      <td>2.358421</td>\n",
       "      <td>9.8</td>\n",
       "    </tr>\n",
       "    <tr>\n",
       "      <th>2010-02-28</th>\n",
       "      <td>2.272105</td>\n",
       "      <td>9.9</td>\n",
       "    </tr>\n",
       "    <tr>\n",
       "      <th>2010-03-31</th>\n",
       "      <td>2.219130</td>\n",
       "      <td>9.9</td>\n",
       "    </tr>\n",
       "    <tr>\n",
       "      <th>2010-04-30</th>\n",
       "      <td>2.345909</td>\n",
       "      <td>9.6</td>\n",
       "    </tr>\n",
       "    <tr>\n",
       "      <th>2010-05-31</th>\n",
       "      <td>2.113000</td>\n",
       "      <td>9.4</td>\n",
       "    </tr>\n",
       "    <tr>\n",
       "      <th>...</th>\n",
       "      <td>...</td>\n",
       "      <td>...</td>\n",
       "    </tr>\n",
       "    <tr>\n",
       "      <th>2024-08-31</th>\n",
       "      <td>2.110000</td>\n",
       "      <td>4.1</td>\n",
       "    </tr>\n",
       "    <tr>\n",
       "      <th>2024-09-30</th>\n",
       "      <td>2.107500</td>\n",
       "      <td>4.1</td>\n",
       "    </tr>\n",
       "    <tr>\n",
       "      <th>2024-10-31</th>\n",
       "      <td>2.285909</td>\n",
       "      <td>4.2</td>\n",
       "    </tr>\n",
       "    <tr>\n",
       "      <th>2024-11-30</th>\n",
       "      <td>2.321053</td>\n",
       "      <td>4.2</td>\n",
       "    </tr>\n",
       "    <tr>\n",
       "      <th>2024-12-31</th>\n",
       "      <td>2.303333</td>\n",
       "      <td>4.2</td>\n",
       "    </tr>\n",
       "  </tbody>\n",
       "</table>\n",
       "<p>180 rows × 2 columns</p>\n",
       "</div>"
      ],
      "text/plain": [
       "              T10YIE  UNRATE\n",
       "Date                        \n",
       "2010-01-31  2.358421     9.8\n",
       "2010-02-28  2.272105     9.9\n",
       "2010-03-31  2.219130     9.9\n",
       "2010-04-30  2.345909     9.6\n",
       "2010-05-31  2.113000     9.4\n",
       "...              ...     ...\n",
       "2024-08-31  2.110000     4.1\n",
       "2024-09-30  2.107500     4.1\n",
       "2024-10-31  2.285909     4.2\n",
       "2024-11-30  2.321053     4.2\n",
       "2024-12-31  2.303333     4.2\n",
       "\n",
       "[180 rows x 2 columns]"
      ]
     },
     "execution_count": 387,
     "metadata": {},
     "output_type": "execute_result"
    }
   ],
   "source": [
    "macro_merge = pd.merge(monthly_inflation, monthly_unemploy, on='Date')\n",
    "macro_merge"
   ]
  },
  {
   "cell_type": "markdown",
   "metadata": {},
   "source": [
    "##### Final Merge"
   ]
  },
  {
   "cell_type": "code",
   "execution_count": 388,
   "metadata": {},
   "outputs": [
    {
     "data": {
      "text/html": [
       "<div>\n",
       "<style scoped>\n",
       "    .dataframe tbody tr th:only-of-type {\n",
       "        vertical-align: middle;\n",
       "    }\n",
       "\n",
       "    .dataframe tbody tr th {\n",
       "        vertical-align: top;\n",
       "    }\n",
       "\n",
       "    .dataframe thead th {\n",
       "        text-align: right;\n",
       "    }\n",
       "</style>\n",
       "<table border=\"1\" class=\"dataframe\">\n",
       "  <thead>\n",
       "    <tr style=\"text-align: right;\">\n",
       "      <th></th>\n",
       "      <th>NDX_Close</th>\n",
       "      <th>NDXT_Close</th>\n",
       "      <th>VIX_Close</th>\n",
       "      <th>T10YIE</th>\n",
       "      <th>UNRATE</th>\n",
       "    </tr>\n",
       "    <tr>\n",
       "      <th>Date</th>\n",
       "      <th></th>\n",
       "      <th></th>\n",
       "      <th></th>\n",
       "      <th></th>\n",
       "      <th></th>\n",
       "    </tr>\n",
       "  </thead>\n",
       "  <tbody>\n",
       "    <tr>\n",
       "      <th>2010-01-31</th>\n",
       "      <td>1850.219470</td>\n",
       "      <td>1122.320004</td>\n",
       "      <td>20.643158</td>\n",
       "      <td>2.358421</td>\n",
       "      <td>9.8</td>\n",
       "    </tr>\n",
       "    <tr>\n",
       "      <th>2010-02-28</th>\n",
       "      <td>1784.734735</td>\n",
       "      <td>1080.598434</td>\n",
       "      <td>22.540000</td>\n",
       "      <td>2.272105</td>\n",
       "      <td>9.9</td>\n",
       "    </tr>\n",
       "    <tr>\n",
       "      <th>2010-03-31</th>\n",
       "      <td>1920.616078</td>\n",
       "      <td>1159.886963</td>\n",
       "      <td>17.767391</td>\n",
       "      <td>2.219130</td>\n",
       "      <td>9.9</td>\n",
       "    </tr>\n",
       "    <tr>\n",
       "      <th>2010-04-30</th>\n",
       "      <td>2010.960013</td>\n",
       "      <td>1218.871448</td>\n",
       "      <td>17.424286</td>\n",
       "      <td>2.345909</td>\n",
       "      <td>9.6</td>\n",
       "    </tr>\n",
       "    <tr>\n",
       "      <th>2010-05-31</th>\n",
       "      <td>1892.732996</td>\n",
       "      <td>1143.466516</td>\n",
       "      <td>31.929500</td>\n",
       "      <td>2.113000</td>\n",
       "      <td>9.4</td>\n",
       "    </tr>\n",
       "    <tr>\n",
       "      <th>...</th>\n",
       "      <td>...</td>\n",
       "      <td>...</td>\n",
       "      <td>...</td>\n",
       "      <td>...</td>\n",
       "      <td>...</td>\n",
       "    </tr>\n",
       "    <tr>\n",
       "      <th>2024-08-31</th>\n",
       "      <td>19070.050249</td>\n",
       "      <td>10058.272061</td>\n",
       "      <td>19.312273</td>\n",
       "      <td>2.110000</td>\n",
       "      <td>4.1</td>\n",
       "    </tr>\n",
       "    <tr>\n",
       "      <th>2024-09-30</th>\n",
       "      <td>19434.121484</td>\n",
       "      <td>10114.234570</td>\n",
       "      <td>17.769000</td>\n",
       "      <td>2.107500</td>\n",
       "      <td>4.1</td>\n",
       "    </tr>\n",
       "    <tr>\n",
       "      <th>2024-10-31</th>\n",
       "      <td>20172.450917</td>\n",
       "      <td>10511.156505</td>\n",
       "      <td>19.960870</td>\n",
       "      <td>2.285909</td>\n",
       "      <td>4.2</td>\n",
       "    </tr>\n",
       "    <tr>\n",
       "      <th>2024-11-30</th>\n",
       "      <td>20726.958008</td>\n",
       "      <td>10645.124609</td>\n",
       "      <td>16.121000</td>\n",
       "      <td>2.321053</td>\n",
       "      <td>4.2</td>\n",
       "    </tr>\n",
       "    <tr>\n",
       "      <th>2024-12-31</th>\n",
       "      <td>21517.410547</td>\n",
       "      <td>10775.856104</td>\n",
       "      <td>15.792000</td>\n",
       "      <td>2.303333</td>\n",
       "      <td>4.2</td>\n",
       "    </tr>\n",
       "  </tbody>\n",
       "</table>\n",
       "<p>180 rows × 5 columns</p>\n",
       "</div>"
      ],
      "text/plain": [
       "               NDX_Close    NDXT_Close  VIX_Close    T10YIE  UNRATE\n",
       "Date                                                               \n",
       "2010-01-31   1850.219470   1122.320004  20.643158  2.358421     9.8\n",
       "2010-02-28   1784.734735   1080.598434  22.540000  2.272105     9.9\n",
       "2010-03-31   1920.616078   1159.886963  17.767391  2.219130     9.9\n",
       "2010-04-30   2010.960013   1218.871448  17.424286  2.345909     9.6\n",
       "2010-05-31   1892.732996   1143.466516  31.929500  2.113000     9.4\n",
       "...                  ...           ...        ...       ...     ...\n",
       "2024-08-31  19070.050249  10058.272061  19.312273  2.110000     4.1\n",
       "2024-09-30  19434.121484  10114.234570  17.769000  2.107500     4.1\n",
       "2024-10-31  20172.450917  10511.156505  19.960870  2.285909     4.2\n",
       "2024-11-30  20726.958008  10645.124609  16.121000  2.321053     4.2\n",
       "2024-12-31  21517.410547  10775.856104  15.792000  2.303333     4.2\n",
       "\n",
       "[180 rows x 5 columns]"
      ]
     },
     "execution_count": 388,
     "metadata": {},
     "output_type": "execute_result"
    }
   ],
   "source": [
    "project_data = pd.merge(stock_data,macro_merge,on='Date')\n",
    "project_data"
   ]
  },
  {
   "cell_type": "markdown",
   "metadata": {},
   "source": [
    "##### Last check for nans, zeros"
   ]
  },
  {
   "cell_type": "code",
   "execution_count": 389,
   "metadata": {},
   "outputs": [
    {
     "data": {
      "text/plain": [
       "(NDX_Close     0\n",
       " NDXT_Close    0\n",
       " VIX_Close     0\n",
       " T10YIE        0\n",
       " UNRATE        0\n",
       " dtype: int64,\n",
       " NDX_Close     0\n",
       " NDXT_Close    0\n",
       " VIX_Close     0\n",
       " T10YIE        0\n",
       " UNRATE        0\n",
       " dtype: int64)"
      ]
     },
     "execution_count": 389,
     "metadata": {},
     "output_type": "execute_result"
    }
   ],
   "source": [
    "project_data.isna().sum(), project_data.isnull().sum()"
   ]
  },
  {
   "cell_type": "markdown",
   "metadata": {},
   "source": [
    "##### Calculate the daily returns for the stock data"
   ]
  },
  {
   "cell_type": "code",
   "execution_count": 390,
   "metadata": {},
   "outputs": [
    {
     "data": {
      "text/html": [
       "<div>\n",
       "<style scoped>\n",
       "    .dataframe tbody tr th:only-of-type {\n",
       "        vertical-align: middle;\n",
       "    }\n",
       "\n",
       "    .dataframe tbody tr th {\n",
       "        vertical-align: top;\n",
       "    }\n",
       "\n",
       "    .dataframe thead th {\n",
       "        text-align: right;\n",
       "    }\n",
       "</style>\n",
       "<table border=\"1\" class=\"dataframe\">\n",
       "  <thead>\n",
       "    <tr style=\"text-align: right;\">\n",
       "      <th></th>\n",
       "      <th>NDX_Close</th>\n",
       "      <th>NDXT_Close</th>\n",
       "      <th>VIX_Close</th>\n",
       "      <th>T10YIE</th>\n",
       "      <th>UNRATE</th>\n",
       "      <th>NDXT_returns</th>\n",
       "      <th>NDX_returns</th>\n",
       "      <th>VIX_returns</th>\n",
       "    </tr>\n",
       "    <tr>\n",
       "      <th>Date</th>\n",
       "      <th></th>\n",
       "      <th></th>\n",
       "      <th></th>\n",
       "      <th></th>\n",
       "      <th></th>\n",
       "      <th></th>\n",
       "      <th></th>\n",
       "      <th></th>\n",
       "    </tr>\n",
       "  </thead>\n",
       "  <tbody>\n",
       "    <tr>\n",
       "      <th>2010-01-31</th>\n",
       "      <td>1850.219470</td>\n",
       "      <td>1122.320004</td>\n",
       "      <td>20.643158</td>\n",
       "      <td>2.358421</td>\n",
       "      <td>9.8</td>\n",
       "      <td>NaN</td>\n",
       "      <td>NaN</td>\n",
       "      <td>NaN</td>\n",
       "    </tr>\n",
       "    <tr>\n",
       "      <th>2010-02-28</th>\n",
       "      <td>1784.734735</td>\n",
       "      <td>1080.598434</td>\n",
       "      <td>22.540000</td>\n",
       "      <td>2.272105</td>\n",
       "      <td>9.9</td>\n",
       "      <td>-0.037174</td>\n",
       "      <td>-0.035393</td>\n",
       "      <td>0.091887</td>\n",
       "    </tr>\n",
       "    <tr>\n",
       "      <th>2010-03-31</th>\n",
       "      <td>1920.616078</td>\n",
       "      <td>1159.886963</td>\n",
       "      <td>17.767391</td>\n",
       "      <td>2.219130</td>\n",
       "      <td>9.9</td>\n",
       "      <td>0.073375</td>\n",
       "      <td>0.076135</td>\n",
       "      <td>-0.211740</td>\n",
       "    </tr>\n",
       "    <tr>\n",
       "      <th>2010-04-30</th>\n",
       "      <td>2010.960013</td>\n",
       "      <td>1218.871448</td>\n",
       "      <td>17.424286</td>\n",
       "      <td>2.345909</td>\n",
       "      <td>9.6</td>\n",
       "      <td>0.050854</td>\n",
       "      <td>0.047039</td>\n",
       "      <td>-0.019311</td>\n",
       "    </tr>\n",
       "    <tr>\n",
       "      <th>2010-05-31</th>\n",
       "      <td>1892.732996</td>\n",
       "      <td>1143.466516</td>\n",
       "      <td>31.929500</td>\n",
       "      <td>2.113000</td>\n",
       "      <td>9.4</td>\n",
       "      <td>-0.061865</td>\n",
       "      <td>-0.058791</td>\n",
       "      <td>0.832471</td>\n",
       "    </tr>\n",
       "    <tr>\n",
       "      <th>...</th>\n",
       "      <td>...</td>\n",
       "      <td>...</td>\n",
       "      <td>...</td>\n",
       "      <td>...</td>\n",
       "      <td>...</td>\n",
       "      <td>...</td>\n",
       "      <td>...</td>\n",
       "      <td>...</td>\n",
       "    </tr>\n",
       "    <tr>\n",
       "      <th>2024-08-31</th>\n",
       "      <td>19070.050249</td>\n",
       "      <td>10058.272061</td>\n",
       "      <td>19.312273</td>\n",
       "      <td>2.110000</td>\n",
       "      <td>4.1</td>\n",
       "      <td>-0.063550</td>\n",
       "      <td>-0.037767</td>\n",
       "      <td>0.334642</td>\n",
       "    </tr>\n",
       "    <tr>\n",
       "      <th>2024-09-30</th>\n",
       "      <td>19434.121484</td>\n",
       "      <td>10114.234570</td>\n",
       "      <td>17.769000</td>\n",
       "      <td>2.107500</td>\n",
       "      <td>4.1</td>\n",
       "      <td>0.005564</td>\n",
       "      <td>0.019091</td>\n",
       "      <td>-0.079912</td>\n",
       "    </tr>\n",
       "    <tr>\n",
       "      <th>2024-10-31</th>\n",
       "      <td>20172.450917</td>\n",
       "      <td>10511.156505</td>\n",
       "      <td>19.960870</td>\n",
       "      <td>2.285909</td>\n",
       "      <td>4.2</td>\n",
       "      <td>0.039244</td>\n",
       "      <td>0.037991</td>\n",
       "      <td>0.123354</td>\n",
       "    </tr>\n",
       "    <tr>\n",
       "      <th>2024-11-30</th>\n",
       "      <td>20726.958008</td>\n",
       "      <td>10645.124609</td>\n",
       "      <td>16.121000</td>\n",
       "      <td>2.321053</td>\n",
       "      <td>4.2</td>\n",
       "      <td>0.012745</td>\n",
       "      <td>0.027488</td>\n",
       "      <td>-0.192370</td>\n",
       "    </tr>\n",
       "    <tr>\n",
       "      <th>2024-12-31</th>\n",
       "      <td>21517.410547</td>\n",
       "      <td>10775.856104</td>\n",
       "      <td>15.792000</td>\n",
       "      <td>2.303333</td>\n",
       "      <td>4.2</td>\n",
       "      <td>0.012281</td>\n",
       "      <td>0.038136</td>\n",
       "      <td>-0.020408</td>\n",
       "    </tr>\n",
       "  </tbody>\n",
       "</table>\n",
       "<p>180 rows × 8 columns</p>\n",
       "</div>"
      ],
      "text/plain": [
       "               NDX_Close    NDXT_Close  VIX_Close    T10YIE  UNRATE  \\\n",
       "Date                                                                  \n",
       "2010-01-31   1850.219470   1122.320004  20.643158  2.358421     9.8   \n",
       "2010-02-28   1784.734735   1080.598434  22.540000  2.272105     9.9   \n",
       "2010-03-31   1920.616078   1159.886963  17.767391  2.219130     9.9   \n",
       "2010-04-30   2010.960013   1218.871448  17.424286  2.345909     9.6   \n",
       "2010-05-31   1892.732996   1143.466516  31.929500  2.113000     9.4   \n",
       "...                  ...           ...        ...       ...     ...   \n",
       "2024-08-31  19070.050249  10058.272061  19.312273  2.110000     4.1   \n",
       "2024-09-30  19434.121484  10114.234570  17.769000  2.107500     4.1   \n",
       "2024-10-31  20172.450917  10511.156505  19.960870  2.285909     4.2   \n",
       "2024-11-30  20726.958008  10645.124609  16.121000  2.321053     4.2   \n",
       "2024-12-31  21517.410547  10775.856104  15.792000  2.303333     4.2   \n",
       "\n",
       "            NDXT_returns  NDX_returns  VIX_returns  \n",
       "Date                                                \n",
       "2010-01-31           NaN          NaN          NaN  \n",
       "2010-02-28     -0.037174    -0.035393     0.091887  \n",
       "2010-03-31      0.073375     0.076135    -0.211740  \n",
       "2010-04-30      0.050854     0.047039    -0.019311  \n",
       "2010-05-31     -0.061865    -0.058791     0.832471  \n",
       "...                  ...          ...          ...  \n",
       "2024-08-31     -0.063550    -0.037767     0.334642  \n",
       "2024-09-30      0.005564     0.019091    -0.079912  \n",
       "2024-10-31      0.039244     0.037991     0.123354  \n",
       "2024-11-30      0.012745     0.027488    -0.192370  \n",
       "2024-12-31      0.012281     0.038136    -0.020408  \n",
       "\n",
       "[180 rows x 8 columns]"
      ]
     },
     "execution_count": 390,
     "metadata": {},
     "output_type": "execute_result"
    }
   ],
   "source": [
    "project_data['NDXT_returns']=project_data['NDXT_Close'].pct_change()\n",
    "project_data['NDX_returns']=project_data['NDX_Close'].pct_change()\n",
    "project_data['VIX_returns']=project_data['VIX_Close'].pct_change()\n",
    "project_data"
   ]
  },
  {
   "cell_type": "code",
   "execution_count": 391,
   "metadata": {},
   "outputs": [],
   "source": [
    "#Remove the Nan value that the calculation of daily returns creates\n",
    "project_data.dropna(inplace=True)\n",
    "project_data\n",
    "\n",
    "#project_data.to_csv('FinalMergedAfterHandling.csv')"
   ]
  },
  {
   "cell_type": "markdown",
   "metadata": {},
   "source": [
    "### Step 2:Visualize data and compute descriptive statistics"
   ]
  },
  {
   "cell_type": "code",
   "execution_count": 392,
   "metadata": {},
   "outputs": [],
   "source": [
    "import matplotlib .pyplot as plt\n",
    "import seaborn as sns"
   ]
  },
  {
   "cell_type": "markdown",
   "metadata": {},
   "source": [
    "##### Descriptive stats"
   ]
  },
  {
   "cell_type": "code",
   "execution_count": 393,
   "metadata": {},
   "outputs": [
    {
     "name": "stdout",
     "output_type": "stream",
     "text": [
      "NASDAQ Tech Descriptives count      179.000000\n",
      "mean      4301.069620\n",
      "std       2895.104840\n",
      "min       1080.598434\n",
      "25%       1780.644520\n",
      "50%       3513.328192\n",
      "75%       6601.052530\n",
      "max      10775.856104\n",
      "Name: NDXT_Close, dtype: float64,\n",
      "\n",
      "NASDAQ 100 Descriptives count      179.000000\n",
      "mean      7627.391085\n",
      "std       5230.943779\n",
      "min       1784.734735\n",
      "25%       3345.699333\n",
      "50%       5816.113501\n",
      "75%      11867.141955\n",
      "max      21517.410547\n",
      "Name: NDX_Close, dtype: float64, \n",
      "\n",
      "Volatility Index Descriptives<bound method NDFrame.describe of Date\n",
      "2010-02-28    22.540000\n",
      "2010-03-31    17.767391\n",
      "2010-04-30    17.424286\n",
      "2010-05-31    31.929500\n",
      "2010-06-30    29.916364\n",
      "                ...    \n",
      "2024-08-31    19.312273\n",
      "2024-09-30    17.769000\n",
      "2024-10-31    19.960870\n",
      "2024-11-30    16.121000\n",
      "2024-12-31    15.792000\n",
      "Name: VIX_Close, Length: 179, dtype: float64>\n"
     ]
    }
   ],
   "source": [
    "print(f'NASDAQ Tech Descriptives {project_data['NDXT_Close'].describe()},\\n\\nNASDAQ 100 Descriptives {project_data['NDX_Close'].describe()}, \\n\\nVolatility Index Descriptives{project_data['VIX_Close'].describe}')"
   ]
  },
  {
   "cell_type": "code",
   "execution_count": 394,
   "metadata": {},
   "outputs": [
    {
     "name": "stdout",
     "output_type": "stream",
     "text": [
      "NASDAQ TECH returns \n",
      "count    179.000000\n",
      "mean       0.013855\n",
      "std        0.047494\n",
      "min       -0.185748\n",
      "25%       -0.014810\n",
      "50%        0.018401\n",
      "75%        0.044312\n",
      "max        0.124244\n",
      "Name: NDXT_returns, dtype: float64,\n",
      "\n",
      " NASDAQ 100 Returns\n",
      "count    179.000000\n",
      "mean       0.014585\n",
      "std        0.039456\n",
      "min       -0.157249\n",
      "25%       -0.007370\n",
      "50%        0.019760\n",
      "75%        0.040550\n",
      "max        0.092380\n",
      "Name: NDX_returns, dtype: float64,\n",
      "\n",
      "Volatility Returns\n",
      "count    179.000000\n",
      "mean       0.018566\n",
      "std        0.238164\n",
      "min       -0.311259\n",
      "25%       -0.103094\n",
      "50%       -0.013627\n",
      "75%        0.085917\n",
      "max        1.941412\n",
      "Name: VIX_returns, dtype: float64\n"
     ]
    }
   ],
   "source": [
    "#Monthly Returns Descriptives\n",
    "print(f'NASDAQ TECH returns \\n{project_data['NDXT_returns'].describe()},\\n\\n NASDAQ 100 Returns\\n{project_data['NDX_returns'].describe()},\\n\\nVolatility Returns\\n{project_data['VIX_returns'].describe()}')"
   ]
  },
  {
   "cell_type": "code",
   "execution_count": 395,
   "metadata": {},
   "outputs": [
    {
     "name": "stdout",
     "output_type": "stream",
     "text": [
      "Inflation Descriptives\n",
      "count    179.000000\n",
      "mean       2.053297\n",
      "std        0.344037\n",
      "min        0.986818\n",
      "25%        1.818612\n",
      "50%        2.122273\n",
      "75%        2.303810\n",
      "max        2.884000\n",
      "Name: T10YIE, dtype: float64,\n",
      "\n",
      " Unemployment Descriptives\n",
      "count    179.000000\n",
      "mean       5.743017\n",
      "std        2.206119\n",
      "min        3.400000\n",
      "25%        3.900000\n",
      "50%        5.000000\n",
      "75%        7.500000\n",
      "max       14.800000\n",
      "Name: UNRATE, dtype: float64\n"
     ]
    }
   ],
   "source": [
    "#Macro Describe\n",
    "print(f'Inflation Descriptives\\n{project_data['T10YIE'].describe()},\\n\\n Unemployment Descriptives\\n{project_data['UNRATE'].describe()}')"
   ]
  },
  {
   "cell_type": "markdown",
   "metadata": {},
   "source": [
    "##### NDX, NDXT, VIT visualizations"
   ]
  },
  {
   "cell_type": "code",
   "execution_count": 396,
   "metadata": {},
   "outputs": [
    {
     "data": {
      "image/png": "[encoded data removed]",
      "text/plain": [
       "<Figure size 1500x1000 with 6 Axes>"
      ]
     },
     "metadata": {},
     "output_type": "display_data"
    }
   ],
   "source": [
    "fig, axs = plt.subplots(2,3, figsize=(15,10))\n",
    "axs[0,0].plot(project_data['NDXT_Close'], color='Blue', label='NDXT')\n",
    "axs[0,0].plot(project_data['NDX_Close'],color='Red', label='NDX')\n",
    "axs[0,0].set_title('Close Prices over time for Stock Data')\n",
    "axs[0,0].set_xlabel('Date')\n",
    "axs[0,0].set_ylabel('Price')\n",
    "axs[0,0].legend()\n",
    "\n",
    "axs[0,1].hist(project_data['NDXT_returns'], edgecolor='Black')\n",
    "axs[0,1].set_title('Histogram of NDXT Returns')\n",
    "axs[0,1].set_xlabel('Returns')\n",
    "axs[0,1].set_ylabel('Frequency')\n",
    "\n",
    "\n",
    "axs[0,2].plot(project_data['T10YIE'], color='Red', label = 'Inflation')\n",
    "axs[0,2].plot(project_data['UNRATE'],color='Black', label='Unemploeyment')\n",
    "axs[0,2].set_title(\"Inflation Rates\")\n",
    "axs[0,2].set_xlabel('Dates')\n",
    "axs[0,2].set_ylabel('Inflation')\n",
    "axs[0,2].legend()\n",
    "\n",
    "\n",
    "axs[1,0].hist(project_data['NDX_returns'], edgecolor='Black')\n",
    "axs[1,0].set_title('Histogram of NDX Returns')\n",
    "axs[1,0].set_xlabel('Returns')\n",
    "axs[1,0].set_ylabel('Frequency')\n",
    "\n",
    "axs[1,1].hist(project_data['VIX_returns'], edgecolor='Black')\n",
    "axs[1,1].set_title('Histogram of VIT Returns')\n",
    "axs[1,1].set_xlabel('Returns')\n",
    "axs[1,1].set_ylabel('Frequency')\n",
    "\n",
    "axs[1,2].plot(project_data['VIX_Close'], color = 'Green',label='VIX')\n",
    "axs[1,2].set_title('Close Prices over time for Stock Data')\n",
    "axs[1,2].set_xlabel('Date')\n",
    "axs[1,2].set_ylabel('Price')\n",
    "\n",
    "plt.tight_layout\n",
    "plt.show()"
   ]
  },
  {
   "cell_type": "code",
   "execution_count": 397,
   "metadata": {},
   "outputs": [
    {
     "data": {
      "image/png": "[encoded data removed]",
      "text/plain": [
       "<Figure size 1000x500 with 2 Axes>"
      ]
     },
     "metadata": {},
     "output_type": "display_data"
    }
   ],
   "source": [
    "fig, ax = plt.subplots(1,2, figsize=(10,5))\n",
    "\n",
    "ax[0].hist(project_data['T10YIE'], edgecolor='Black', color='LightBlue')\n",
    "ax[0].set_title('Histogram of Inflation')\n",
    "ax[0].set_xlabel('Inflation')\n",
    "ax[0].set_ylabel('Frequency')\n",
    "\n",
    "ax[1].hist(project_data['UNRATE'], edgecolor='Black', color='LightBlue')\n",
    "ax[1].set_xlabel('Unemployement')\n",
    "ax[1].set_title('Histogram of unemployement')\n",
    "ax[1].set_ylabel('Frequency')\n",
    "\n",
    "plt.show()"
   ]
  },
  {
   "cell_type": "code",
   "execution_count": 398,
   "metadata": {},
   "outputs": [],
   "source": [
    "from sklearn.preprocessing import StandardScaler\n",
    "scaler = StandardScaler()\n",
    "project_data['NDXT_Close_standar'] = scaler.fit_transform(project_data['NDXT_Close'].values.reshape(-1, 1))\n",
    "project_data['NDX_Close_standar'] = scaler.fit_transform(project_data['NDX_Close'].values.reshape(-1,1))\n",
    "project_data['VIX_Close_standar'] = scaler.fit_transform(project_data['VIX_Close'].values.reshape(-1,1))"
   ]
  },
  {
   "cell_type": "code",
   "execution_count": 399,
   "metadata": {},
   "outputs": [
    {
     "data": {
      "image/png": "[encoded data removed]",
      "text/plain": [
       "<Figure size 640x480 with 1 Axes>"
      ]
     },
     "metadata": {},
     "output_type": "display_data"
    }
   ],
   "source": [
    "plt.plot(project_data['NDXT_Close_standar'], color='Red', label='NDXT')\n",
    "plt.plot(project_data['NDX_Close_standar'], color='Black', label = 'NDX')\n",
    "plt.plot(project_data['VIX_Close_standar'],color='Blue', label ='VIX')\n",
    "plt.title('Standardized Close Prices')\n",
    "plt.xlabel('Date')\n",
    "plt.ylabel('Standardized Price')\n",
    "plt.legend()\n",
    "plt.show()"
   ]
  },
  {
   "cell_type": "code",
   "execution_count": 400,
   "metadata": {},
   "outputs": [
    {
     "data": {
      "image/png": "[encoded data removed]",
      "text/plain": [
       "<Figure size 1000x500 with 3 Axes>"
      ]
     },
     "metadata": {},
     "output_type": "display_data"
    }
   ],
   "source": [
    "fig, axs = plt.subplots(1,3, figsize=(10,5))\n",
    "axs[0].hist(project_data['NDXT_Close_standar'],edgecolor='Black')\n",
    "axs[0].set_title('Histogram of NDXT standardized')\n",
    "axs[0].set_xlabel('Close Standar')\n",
    "axs[0].set_ylabel('Frequency')\n",
    "\n",
    "axs[1].hist(project_data['NDX_Close_standar'], edgecolor='Black')\n",
    "axs[1].set_title('Histogram of NDX standardized')\n",
    "axs[1].set_xlabel('NDX Standar')\n",
    "axs[1].set_ylabel('Frequqncy')\n",
    "\n",
    "axs[2].hist(project_data['VIX_Close_standar'], edgecolor='Black')\n",
    "axs[2].set_title('Histogram of VIX Standardized')\n",
    "axs[2].set_xlabel('Close Standar')\n",
    "axs[2].set_ylabel('Frequency')\n",
    "\n",
    "plt.show()"
   ]
  },
  {
   "cell_type": "code",
   "execution_count": 401,
   "metadata": {},
   "outputs": [
    {
     "data": {
      "text/plain": [
       "Text(0.5, 1.0, 'NDXT Returns Q-Q plot')"
      ]
     },
     "execution_count": 401,
     "metadata": {},
     "output_type": "execute_result"
    },
    {
     "data": {
      "image/png": "[encoded data removed]",
      "text/plain": [
       "<Figure size 640x480 with 1 Axes>"
      ]
     },
     "metadata": {},
     "output_type": "display_data"
    }
   ],
   "source": [
    "#NDXT Returns Q-Q plot\n",
    "from scipy import stats\n",
    "stats.probplot(project_data['NDXT_returns'], dist='norm', plot=plt)\n",
    "plt.title('NDXT Returns Q-Q plot')"
   ]
  },
  {
   "cell_type": "code",
   "execution_count": 402,
   "metadata": {},
   "outputs": [
    {
     "data": {
      "text/plain": [
       "Text(0.5, 1.0, 'NDX Returns Q-Q plot')"
      ]
     },
     "execution_count": 402,
     "metadata": {},
     "output_type": "execute_result"
    },
    {
     "data": {
      "image/png": "[encoded data removed]",
      "text/plain": [
       "<Figure size 640x480 with 1 Axes>"
      ]
     },
     "metadata": {},
     "output_type": "display_data"
    }
   ],
   "source": [
    "#NDX Returns Q-Q plot\n",
    "from scipy import stats\n",
    "stats.probplot(project_data['NDX_returns'], dist='norm', plot=plt)\n",
    "plt.title('NDX Returns Q-Q plot')"
   ]
  },
  {
   "cell_type": "markdown",
   "metadata": {},
   "source": [
    "### Step 4: Hypotheses Testing"
   ]
  },
  {
   "cell_type": "markdown",
   "metadata": {},
   "source": [
    "##### H1(Two Sample-ttest): Is there a significant difference in Nasdaq Tech Index (NDXT) returns between periods of high and low inflation?\n",
    "Ho:The mean NDXT returns are the same during high and low inflation periods."
   ]
  },
  {
   "cell_type": "code",
   "execution_count": 403,
   "metadata": {},
   "outputs": [],
   "source": [
    "#First I have to seperate data to high inflation and low inflation\n",
    "\n",
    "high_inflation = project_data[project_data['T10YIE']> project_data['T10YIE'].median()]\n",
    "low_inflation =project_data[project_data['T10YIE']<= project_data['T10YIE'].median()]"
   ]
  },
  {
   "cell_type": "code",
   "execution_count": 404,
   "metadata": {},
   "outputs": [
    {
     "name": "stdout",
     "output_type": "stream",
     "text": [
      "T-Statistic: -1.1034238089554678, P-Value: 0.271343315655925\n",
      "There is no statistical Significance\n"
     ]
    }
   ],
   "source": [
    "#Two sample t-test\n",
    "\n",
    "from scipy.stats import ttest_ind\n",
    "\n",
    "high_inflation_returns = high_inflation[\"NDXT_returns\"].dropna()\n",
    "low_inflation_returns = low_inflation[\"NDXT_returns\"].dropna()\n",
    "\n",
    "t_stat_tstt, p_value_tstt = ttest_ind(high_inflation_returns, low_inflation_returns, equal_var=False)\n",
    "print(f\"T-Statistic: {t_stat_tstt}, P-Value: {p_value_tstt}\")\n",
    "\n",
    "if p_value_tstt <= 0.05:\n",
    "    print(\"Prediction is statistically significant.\")\n",
    "else:\n",
    "    print('There is no statistical Significance')"
   ]
  },
  {
   "cell_type": "markdown",
   "metadata": {},
   "source": [
    "##### H2(Paired t-test):Does market volatility (VIX) significantly impact Nasdaq-100 (NDX) returns during high-volatility vs. low-volatility periods?\n",
    "\n",
    "H0: The average NDX returns during high-volatility periods are the same as during low-volatility periods."
   ]
  },
  {
   "cell_type": "code",
   "execution_count": 405,
   "metadata": {},
   "outputs": [],
   "source": [
    "#First split the data to low and high volatility\n",
    "\n",
    "high_volatility = project_data[project_data['VIX_Close']>project_data['VIX_Close'].median()]\n",
    "low_volatility = project_data[project_data['VIX_Close']<=project_data['VIX_Close'].median()]"
   ]
  },
  {
   "cell_type": "code",
   "execution_count": 406,
   "metadata": {},
   "outputs": [
    {
     "name": "stdout",
     "output_type": "stream",
     "text": [
      "Length of high_vol_returns: 89\n",
      "Length of low_vol_returns: 90\n"
     ]
    }
   ],
   "source": [
    "# Paired t-test\n",
    "\n",
    "from scipy.stats import ttest_rel\n",
    "\n",
    "high_vol_returns = high_volatility['NDX_returns'].dropna()\n",
    "low_vol_returns = low_volatility['NDX_returns'].dropna()\n",
    "\n",
    "#I have to check if they have equal lenght because paired test requires equal length\n",
    "print(f\"Length of high_vol_returns: {len(high_vol_returns)}\")\n",
    "print(f\"Length of low_vol_returns: {len(low_vol_returns)}\")\n"
   ]
  },
  {
   "cell_type": "code",
   "execution_count": 407,
   "metadata": {},
   "outputs": [],
   "source": [
    "#Randomly drop one value from low volatility\n",
    "low_vol_returns = low_vol_returns.sample(len(high_vol_returns), random_state=20)"
   ]
  },
  {
   "cell_type": "code",
   "execution_count": 408,
   "metadata": {},
   "outputs": [
    {
     "name": "stdout",
     "output_type": "stream",
     "text": [
      "T-Statistic: -3.4855174187046796, P-Value: 0.0007682417998508049\n",
      "Prediction is statistically significant.\n"
     ]
    }
   ],
   "source": [
    "t_stat_rel, p_value_rel = ttest_rel(high_vol_returns, low_vol_returns)\n",
    "print(f\"T-Statistic: {t_stat_rel}, P-Value: {p_value_rel}\")\n",
    "\n",
    "if p_value_rel <= 0.05:\n",
    "    print(\"Prediction is statistically significant.\")\n",
    "else:\n",
    "    print('There is no statistical Significance')"
   ]
  },
  {
   "cell_type": "markdown",
   "metadata": {},
   "source": [
    "##### H3(Binomial Test):Is the Nasdaq-100 index more likely to increase after periods of low unemployment than after periods of high unemployment?\n",
    "\n",
    "H0:The probability of the Nasdaq-100 increasing after low unemployment periods is 50%."
   ]
  },
  {
   "cell_type": "code",
   "execution_count": 409,
   "metadata": {},
   "outputs": [],
   "source": [
    "#Identify Positive NDX Movements\n",
    "\n",
    "project_data['NDX_Movement'] = (project_data['NDX_returns'] > 0).astype(int) #convert to binary the positive returns(1 positive, 0 negative)\n",
    "low_unemployment = project_data[project_data['UNRATE'] <= project_data['UNRATE'].median()]\n",
    "positive_movements = low_unemployment['NDX_Movement']"
   ]
  },
  {
   "cell_type": "code",
   "execution_count": 410,
   "metadata": {},
   "outputs": [
    {
     "name": "stdout",
     "output_type": "stream",
     "text": [
      "Number of Positive Movements: 64, P-Value: BinomTestResult(k=64, n=94, alternative='greater', statistic=0.6808510638297872, pvalue=0.0002939511127062821)\n"
     ]
    }
   ],
   "source": [
    "#Binomial Test\n",
    "from scipy.stats import binomtest\n",
    "\n",
    "num_successes = positive_movements.sum() #the number of positive movements\n",
    "num_trials = len(positive_movements) # total number of trials\n",
    "p_value_binom = binomtest(num_successes, num_trials, p=0.5, alternative=\"greater\")\n",
    "print(f\"Number of Positive Movements: {num_successes}, P-Value: {p_value_binom}\")\n"
   ]
  },
  {
   "cell_type": "markdown",
   "metadata": {},
   "source": [
    "### Step 5: Extend with machine learning predictions"
   ]
  },
  {
   "cell_type": "markdown",
   "metadata": {},
   "source": [
    "##### Predict NDX Movements"
   ]
  },
  {
   "cell_type": "code",
   "execution_count": 411,
   "metadata": {},
   "outputs": [],
   "source": [
    "#Train test split\n",
    "from sklearn.model_selection import train_test_split\n",
    "from sklearn.model_selection import cross_val_score, KFold\n",
    "\n",
    "X= project_data[['NDX_Close_standar', 'NDXT_Close_standar', 'VIX_Close_standar', 'T10YIE', 'UNRATE']]\n",
    "y_pred = project_data['NDX_returns'].dropna()\n",
    "\n",
    "X_train, X_test, y_train, y_test = train_test_split(X, y_pred, test_size = 0.25, random_state=101)\n",
    "\n",
    "kf = KFold(n_splits=10, shuffle=True, random_state=101)"
   ]
  },
  {
   "cell_type": "code",
   "execution_count": 412,
   "metadata": {},
   "outputs": [
    {
     "name": "stdout",
     "output_type": "stream",
     "text": [
      "Linear Regression MSE: 0.000945311953593229\n",
      "Linear Regression R2: 0.25843801731015514\n"
     ]
    }
   ],
   "source": [
    "from sklearn.linear_model import LinearRegression\n",
    "from sklearn.metrics import mean_squared_error, r2_score\n",
    "\n",
    "lin_reg = LinearRegression().fit(X_train, y_train)\n",
    "y_pred_lin = lin_reg.predict(X_test)\n",
    "print(\"Linear Regression MSE:\", mean_squared_error(y_test, y_pred_lin))\n",
    "print(\"Linear Regression R2:\", r2_score(y_test, y_pred_lin))"
   ]
  },
  {
   "cell_type": "code",
   "execution_count": 413,
   "metadata": {},
   "outputs": [
    {
     "name": "stdout",
     "output_type": "stream",
     "text": [
      "  Cross-Validation MSE: Mean = 0.0012, Std = 0.0005\n"
     ]
    }
   ],
   "source": [
    "#10 fold cross validation\n",
    "lin_reg_cv_scores = cross_val_score(lin_reg, X, y_pred, cv=kf, scoring='neg_mean_squared_error')\n",
    "lin_reg_cv_mse_mean = -lin_reg_cv_scores.mean()\n",
    "lin_reg_cv_mse_std = lin_reg_cv_scores.std()\n",
    "\n",
    "print(f\"  Cross-Validation MSE: Mean = {lin_reg_cv_mse_mean:.4f}, Std = {lin_reg_cv_mse_std:.4f}\")"
   ]
  },
  {
   "cell_type": "code",
   "execution_count": 414,
   "metadata": {},
   "outputs": [
    {
     "name": "stdout",
     "output_type": "stream",
     "text": [
      "Random Forest MSE: 0.0009926900205360684\n",
      "Random R2: 0.221271690231991\n"
     ]
    }
   ],
   "source": [
    "#Random Forest Regression\n",
    "from sklearn.ensemble import RandomForestRegressor\n",
    "\n",
    "rf = RandomForestRegressor().fit(X_train, y_train)\n",
    "y_pred_rf = rf.predict(X_test)\n",
    "print(\"Random Forest MSE:\", mean_squared_error(y_test, y_pred_rf))\n",
    "print(\"Random R2:\", r2_score(y_test, y_pred_rf))"
   ]
  },
  {
   "cell_type": "code",
   "execution_count": 415,
   "metadata": {},
   "outputs": [
    {
     "name": "stdout",
     "output_type": "stream",
     "text": [
      "  Cross-Validation MSE: Mean = 0.0013, Std = 0.0009\n"
     ]
    }
   ],
   "source": [
    "#10 fold Random Forest \n",
    "rf_cv_scores = cross_val_score(rf, X, y_pred, cv=kf, scoring='neg_mean_squared_error')\n",
    "rf_cv_mse_mean = -rf_cv_scores.mean()\n",
    "rf_cv_mse_std = rf_cv_scores.std()\n",
    "print(f\"  Cross-Validation MSE: Mean = {rf_cv_mse_mean:.4f}, Std = {rf_cv_mse_std:.4f}\")\n"
   ]
  },
  {
   "cell_type": "code",
   "execution_count": 416,
   "metadata": {},
   "outputs": [
    {
     "name": "stdout",
     "output_type": "stream",
     "text": [
      "SVM MSE: 0.0016348567213660535\n",
      "SVM R2: -0.28248414409843314\n"
     ]
    }
   ],
   "source": [
    "#SVR Regression\n",
    "from sklearn.svm import SVR\n",
    "\n",
    "svm = SVR().fit(X_train, y_train)\n",
    "y_pred_svm = svm.predict(X_test)\n",
    "print(\"SVM MSE:\", mean_squared_error(y_test, y_pred_svm))\n",
    "print(\"SVM R2:\", r2_score(y_test, y_pred_svm))"
   ]
  },
  {
   "cell_type": "code",
   "execution_count": 417,
   "metadata": {},
   "outputs": [
    {
     "name": "stdout",
     "output_type": "stream",
     "text": [
      "  Cross-Validation MSE: Mean = 0.0022, Std = 0.0006\n"
     ]
    }
   ],
   "source": [
    "#10 fold SVR\n",
    "svm_cv_scores = cross_val_score(svm, X, y_pred, cv=kf, scoring='neg_mean_squared_error')\n",
    "svm_cv_mse_mean = -svm_cv_scores.mean()\n",
    "svm_cv_mse_std = svm_cv_scores.std()\n",
    "print(f\"  Cross-Validation MSE: Mean = {svm_cv_mse_mean:.4f}, Std = {svm_cv_mse_std:.4f}\")\n"
   ]
  },
  {
   "cell_type": "code",
   "execution_count": 418,
   "metadata": {},
   "outputs": [
    {
     "name": "stdout",
     "output_type": "stream",
     "text": [
      "+---------------------------+---------+-------+--------------+--------------+\n",
      "| Model                     |     MSE |    R2 |   KFold Mean |    KFold Std |\n",
      "+===========================+=========+=======+==============+==============+\n",
      "| LinearRegression          | 0.00094 |  0.25 |       0.0012 |       0.0005 |\n",
      "+---------------------------+---------+-------+--------------+--------------+\n",
      "| RandomForest              | 0.001   |  0.17 |       0.0014 |       0.0009 |\n",
      "+---------------------------+---------+-------+--------------+--------------+\n",
      "| Support Vector Regression | 0.0016  | -0.28 |       0.0022 |       0.0006 |\n",
      "+---------------------------+---------+-------+--------------+--------------+\n"
     ]
    }
   ],
   "source": [
    "#Table for nice visualizations\n",
    "from tabulate import tabulate\n",
    "\n",
    "results = [\n",
    "    ['LinearRegression', '0.00094','0.25', '0.0012', '0.0005'],\n",
    "    ['RandomForest', '0.001','0.17', '0.0014', '0.0009'],\n",
    "    ['Support Vector Regression', '0.0016', '-0.28', '0.0022', '0.0006']\n",
    "]\n",
    "\n",
    "head = ['Model', 'MSE', 'R2','KFold Mean', ' KFold Std']\n",
    "\n",
    "print(tabulate(results, headers=head, tablefmt='grid'))"
   ]
  },
  {
   "cell_type": "markdown",
   "metadata": {},
   "source": [
    "##### Ho:The model's predictions do not differ significantly from random guesses."
   ]
  },
  {
   "cell_type": "markdown",
   "metadata": {},
   "source": [
    "#### Statistical Tests"
   ]
  },
  {
   "cell_type": "code",
   "execution_count": 419,
   "metadata": {},
   "outputs": [
    {
     "name": "stdout",
     "output_type": "stream",
     "text": [
      "\n",
      "Paired t-test: Linear Regression vs Random Forest\n",
      "  t-statistic: -1.0067\n",
      "  p-value: 0.3404\n",
      "  No statistically significant difference between Linear Regression and Random Forest.\n"
     ]
    }
   ],
   "source": [
    "# Linear Regression vs Random Forest paired test\n",
    "t_stat_lr_rf, p_value_lr_rf = ttest_rel(-lin_reg_cv_scores, -rf_cv_scores)\n",
    "print(\"\\nPaired t-test: Linear Regression vs Random Forest\")\n",
    "print(f\"  t-statistic: {t_stat_lr_rf:.4f}\")\n",
    "print(f\"  p-value: {p_value_lr_rf:.4f}\")\n",
    "if p_value_lr_rf < 0.05:\n",
    "    print(\"  Statistically significant difference between Linear Regression and Random Forest.\")\n",
    "else:\n",
    "    print(\"  No statistically significant difference between Linear Regression and Random Forest.\")\n"
   ]
  },
  {
   "cell_type": "code",
   "execution_count": 420,
   "metadata": {},
   "outputs": [
    {
     "name": "stdout",
     "output_type": "stream",
     "text": [
      "\n",
      "Paired t-test: Linear Regression vs SVR\n",
      "  t-statistic: -4.4190\n",
      "  p-value: 0.0017\n",
      "  Statistically significant difference between Linear Regression and SVR.\n"
     ]
    }
   ],
   "source": [
    "# Linear Regression vs SVR paired test\n",
    "t_stat_lr_svm, p_value_lr_svm = ttest_rel(-lin_reg_cv_scores, -svm_cv_scores)\n",
    "print(\"\\nPaired t-test: Linear Regression vs SVR\")\n",
    "print(f\"  t-statistic: {t_stat_lr_svm:.4f}\")\n",
    "print(f\"  p-value: {p_value_lr_svm:.4f}\")\n",
    "if p_value_lr_svm < 0.05:\n",
    "    print(\"  Statistically significant difference between Linear Regression and SVR.\")\n",
    "else:\n",
    "    print(\"  No statistically significant difference between Linear Regression and SVR.\")"
   ]
  },
  {
   "cell_type": "code",
   "execution_count": 421,
   "metadata": {},
   "outputs": [
    {
     "name": "stdout",
     "output_type": "stream",
     "text": [
      "\n",
      "Paired t-test: Random Forest vs SVR\n",
      "  t-statistic: -2.9557\n",
      "  p-value: 0.0161\n",
      "  Statistically significant difference between Random Forest and SVR.\n"
     ]
    }
   ],
   "source": [
    "# Random Forest vs SVR paired test\n",
    "t_stat_rf_svm, p_value_rf_svm = ttest_rel(-rf_cv_scores, -svm_cv_scores)\n",
    "print(\"\\nPaired t-test: Random Forest vs SVR\")\n",
    "print(f\"  t-statistic: {t_stat_rf_svm:.4f}\")\n",
    "print(f\"  p-value: {p_value_rf_svm:.4f}\")\n",
    "if p_value_rf_svm < 0.05:\n",
    "    print(\"  Statistically significant difference between Random Forest and SVR.\")\n",
    "else:\n",
    "    print(\"  No statistically significant difference between Random Forest and SVR.\")"
   ]
  },
  {
   "cell_type": "code",
   "execution_count": null,
   "metadata": {},
   "outputs": [],
   "source": []
  }
 ],
 "metadata": {
  "kernelspec": {
   "display_name": "Python 3",
   "language": "python",
   "name": "python3"
  },
  "language_info": {
   "codemirror_mode": {
    "name": "ipython",
    "version": 3
   },
   "file_extension": ".py",
   "mimetype": "text/x-python",
   "name": "python",
   "nbconvert_exporter": "python",
   "pygments_lexer": "ipython3",
   "version": "3.12.8"
  }
 },
 "nbformat": 4,
 "nbformat_minor": 2
}
